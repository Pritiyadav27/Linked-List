{
 "cells": [
  {
   "cell_type": "markdown",
   "id": "a643fc02-11e8-481c-88a8-56f3d4304100",
   "metadata": {},
   "source": [
    "# Linked List"
   ]
  },
  {
   "cell_type": "raw",
   "id": "4a7a3688-3232-48f4-8297-10524f61d7fc",
   "metadata": {},
   "source": [
    "Linked list is linear data structure and it contains the chains of nodes where each node contains information such as data and pointer to the next node in the chain"
   ]
  },
  {
   "cell_type": "raw",
   "id": "a496eb89-d350-47ac-8165-7561eea42984",
   "metadata": {},
   "source": [
    "{It stores the address of next memory in data}"
   ]
  },
  {
   "cell_type": "code",
   "execution_count": 86,
   "id": "5641892d-cfb1-4aee-9be4-7a1b9a67f7ae",
   "metadata": {},
   "outputs": [
    {
     "name": "stdout",
     "output_type": "stream",
     "text": [
      "5\n",
      "3\n",
      "9\n"
     ]
    }
   ],
   "source": [
    "# HOW TO CREATE LINKED LIST IN PYTHON\n",
    "class Node:\n",
    "    def __init__(self,data):\n",
    "        self.data = data\n",
    "        self.next = None\n",
    "a = Node(5)\n",
    "b = Node(3)\n",
    "c = Node(9)\n",
    "\n",
    "# attached all the linked list together (optional)\n",
    "a.next = b\n",
    "b.next = c\n",
    "\n",
    "# we dont want to named all the linked list in this simply do head \n",
    "head = a \n",
    "\n",
    "print(head.data)\n",
    "print(head.next.data)\n",
    "print(head.next.next.data)"
   ]
  },
  {
   "cell_type": "code",
   "execution_count": 88,
   "id": "77001a8a-ad8b-4e4b-a370-17c76ff1b97a",
   "metadata": {},
   "outputs": [
    {
     "name": "stdout",
     "output_type": "stream",
     "text": [
      "5 3 9 "
     ]
    }
   ],
   "source": [
    "# How to traverse the linked list insert and delete the linked list\n",
    "def printLinkedList(head):\n",
    "    curr = head\n",
    "    \n",
    "    while curr != None:\n",
    "        print(curr.data,end=\" \")\n",
    "        curr = curr.next\n",
    "printLinkedList(head)"
   ]
  },
  {
   "cell_type": "code",
   "execution_count": 90,
   "id": "f4df95c1-10e1-4657-abae-d80416a7b210",
   "metadata": {},
   "outputs": [
    {
     "name": "stdout",
     "output_type": "stream",
     "text": [
      "90 5 3 9 "
     ]
    }
   ],
   "source": [
    "# INSERTION A node\n",
    "newNode = Node(90)\n",
    "newNode.next = head\n",
    "head = newNode\n",
    "printLinkedList(head)"
   ]
  },
  {
   "cell_type": "code",
   "execution_count": 92,
   "id": "40d4ddc1-dba4-47a1-ae4c-943c68b94108",
   "metadata": {},
   "outputs": [
    {
     "name": "stdout",
     "output_type": "stream",
     "text": [
      "90 5 3 9 21 "
     ]
    }
   ],
   "source": [
    "#insertion at the end\n",
    "newNode = Node(1)\n",
    "newNode = Node(21)\n",
    "\n",
    "curr = head\n",
    "while curr.next != None:\n",
    "    curr = curr.next\n",
    "curr.next = newNode\n",
    "printLinkedList(head)"
   ]
  },
  {
   "cell_type": "code",
   "execution_count": 94,
   "id": "a0a8ded7-a45f-4157-8044-5a303ae00eca",
   "metadata": {},
   "outputs": [
    {
     "name": "stdout",
     "output_type": "stream",
     "text": [
      "90 5 3 67 9 21 "
     ]
    }
   ],
   "source": [
    "# Insertion at the (kth index) \n",
    "k = 3\n",
    "newNode = Node(67)\n",
    "\n",
    "curr = head \n",
    "for i in range(k-1):\n",
    "    curr = curr.next\n",
    "    \n",
    "newNode.next = curr.next\n",
    "curr.next = newNode\n",
    "\n",
    "printLinkedList(head)"
   ]
  },
  {
   "cell_type": "code",
   "execution_count": 97,
   "id": "27711f51-76d5-4ab8-85f8-e1921c031bc6",
   "metadata": {},
   "outputs": [
    {
     "name": "stdout",
     "output_type": "stream",
     "text": [
      "5 3 67 9 21 "
     ]
    }
   ],
   "source": [
    "# Delete first of the node\n",
    "head = head.next\n",
    "printLinkedList(head)"
   ]
  },
  {
   "cell_type": "code",
   "execution_count": 100,
   "id": "a2351fa9-dec4-473e-9a80-bda149606641",
   "metadata": {},
   "outputs": [
    {
     "name": "stdout",
     "output_type": "stream",
     "text": [
      "5 3 67 9 "
     ]
    }
   ],
   "source": [
    "# Delete last node of the linked list\n",
    "curr = head\n",
    "while curr.next.next != None:\n",
    "    curr = curr.next\n",
    "curr.next = None\n",
    "printLinkedList(head)"
   ]
  },
  {
   "cell_type": "code",
   "execution_count": 104,
   "id": "b98b7c4d-68d2-45e9-8928-45c3a70d4b7d",
   "metadata": {},
   "outputs": [
    {
     "name": "stdout",
     "output_type": "stream",
     "text": [
      "5 67 "
     ]
    }
   ],
   "source": [
    "# Delete kth node of the linked list\n",
    "k = 1\n",
    "curr = head \n",
    "for i in range(k-1):\n",
    "    curr = curr.next\n",
    "curr.next = curr.next.next\n",
    "\n",
    "printLinkedList(head)"
   ]
  },
  {
   "cell_type": "code",
   "execution_count": 140,
   "id": "98879f5b-16ff-4672-902f-617eb2373227",
   "metadata": {},
   "outputs": [
    {
     "name": "stdout",
     "output_type": "stream",
     "text": [
      "1 2 3 4 \n",
      "0 1 2 3 4 \n",
      "0 1 2 3 4 5 \n"
     ]
    }
   ],
   "source": [
    "# WHOLE OPERATIONS PERFORMED IN A LINKED LIST ,HOW TO CREATE,INSERT ,UPDATE AND DELETE\n",
    "class Node:\n",
    "    def __init__(self,data):\n",
    "        self.data = data\n",
    "        self.next = None\n",
    "ab = Node(1)\n",
    "cd = Node(2)\n",
    "ef = Node(3)\n",
    "gi = Node(4)\n",
    "\n",
    "ab.next = cd\n",
    "cd.next = ef\n",
    "ef.next = gi\n",
    "\n",
    "head = ab\n",
    "# Traverse\n",
    "def LinkedList(head):\n",
    "    curr = head\n",
    "    while curr != None:\n",
    "        print(curr.data,end=\" \")\n",
    "        curr = curr.next\n",
    "LinkedList(head)\n",
    "print()\n",
    "\n",
    "# Insert\n",
    "newNode = Node(0)\n",
    "newNode.next = head\n",
    "head = newNode\n",
    "LinkedList(head)\n",
    "print()\n",
    "\n",
    "# Insert at end\n",
    "newNode = Node(5)\n",
    "curr = head\n",
    "while curr.next != None:\n",
    "    curr = curr.next\n",
    "curr.next = newNode\n",
    "LinkedList(head)\n",
    "print()"
   ]
  },
  {
   "cell_type": "markdown",
   "id": "ece7b110-ae30-4132-a966-738eeb61c049",
   "metadata": {},
   "source": [
    "# Doublly linked list"
   ]
  },
  {
   "cell_type": "raw",
   "id": "8407697b-d2c7-4d5e-a1b0-b3eeb926efe9",
   "metadata": {},
   "source": [
    "It has previous node also"
   ]
  },
  {
   "cell_type": "code",
   "execution_count": 145,
   "id": "4d3087e6-b6f8-47d4-a7dd-67c4ee6dccd0",
   "metadata": {},
   "outputs": [
    {
     "name": "stdout",
     "output_type": "stream",
     "text": [
      "5\n",
      "3\n",
      "9\n"
     ]
    }
   ],
   "source": [
    "class Node:\n",
    "    def __init__(self,data):\n",
    "        self.data = data\n",
    "        self.next = None\n",
    "        self.prev = None\n",
    "\n",
    "a = Node(5)\n",
    "b = Node(3)\n",
    "c = Node(9)\n",
    "\n",
    "# attached all the linked list together (optional)\n",
    "a.next = b\n",
    "b.prev = a\n",
    "b.next = c\n",
    "c.prev = b\n",
    "\n",
    "# we dont want to named all the linked list in this simply do head \n",
    "head = a \n",
    "\n",
    "print(head.data)\n",
    "print(head.next.data)\n",
    "print(head.next.next.data)"
   ]
  },
  {
   "cell_type": "code",
   "execution_count": null,
   "id": "b7567f57-bb8d-4e00-8dea-28db0e44e2fa",
   "metadata": {},
   "outputs": [],
   "source": []
  }
 ],
 "metadata": {
  "kernelspec": {
   "display_name": "Python 3 (ipykernel)",
   "language": "python",
   "name": "python3"
  },
  "language_info": {
   "codemirror_mode": {
    "name": "ipython",
    "version": 3
   },
   "file_extension": ".py",
   "mimetype": "text/x-python",
   "name": "python",
   "nbconvert_exporter": "python",
   "pygments_lexer": "ipython3",
   "version": "3.12.4"
  }
 },
 "nbformat": 4,
 "nbformat_minor": 5
}
